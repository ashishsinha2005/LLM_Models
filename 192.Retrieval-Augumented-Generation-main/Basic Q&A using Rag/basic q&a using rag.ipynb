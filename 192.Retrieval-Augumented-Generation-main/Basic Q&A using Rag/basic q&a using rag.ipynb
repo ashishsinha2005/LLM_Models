{
 "cells": [
  {
   "cell_type": "code",
   "execution_count": 1,
   "metadata": {},
   "outputs": [
    {
     "data": {
      "text/plain": [
       "[Document(metadata={'source': 'MalavikaGowthaman.pdf', 'page': 0}, page_content='  \\nMalavika Gowthaman \\nAI Engineer | Data Scientist | Masters in Data Science \\n+ 1 647 446 1531 | malavikag115@gmail.com | LinkedIn.com | GitHub.com \\n Scarborough, Ontario, Canada  \\nData Scientist and AI Engineer with 5 years of experience in data collection, pre -processing, model development and deployment. \\nExpert in Deep Learning, Neural Networks, Machine Learning, and LLMs, with a strong background in IT, Computer Science, \\nmathematics, Software Engineering and data analytics. Skilled in Power BI, Tableau, SQL, ETL Process, ML Flow and Python. \\nWORK EXPERIENCE \\nHope Artificial Intelligence Pvt Ltd - AI Engineer                                                                                      04/24 – Present \\n\\uf0b7 Developed FitTrack, a Streamlit web app with Python and Google’s Gen AI for BMI calculation and personalized  \\nrecommendation, featuring robust error handling and secure API management.(GitHub.com) \\n\\uf0b7 Created a smoking detection model using PyTorch YOLOv5, achieved 90% accuracy, and documented the process in \\na Jupyter notebook for future enhancements.(GitHub.com) \\n\\uf0b7 Developed a deep learning model using TensorFlow and VGG19 for cancer classification based on CT scan images. \\nUtilized Docker and GitHub Actions for CI/CD pipelines and deployed the front -end application for th is project on \\nthe AWS platform.(GitHub.com) \\n\\uf0b7 Built a Random Forest model for personal loan eligibility prediction with 99% accuracy, collaborating with cross -\\nfunctional teams including finance and product management to deploy the model in a web interface.(GitHub.com) \\n\\uf0b7 Created TensorFlow-based CNN model  with 99% accuracy for face mask detection in images  and real-time videos, \\nalso implemented rigorous data pre-process to improve the data quality and validation techniques.(GitHub.com) \\n\\uf0b7 Developed and deployed an Information Retrieval System Streamlit web application focused on 3 types of documents \\nusing Langchain, and successfully launched on AWS EC2 for scalable access.(GitHub.com) \\nHCL Technologies - Senior Software Developer in Data Science                             09/22 – 04/24  \\n\\uf0b7 Developed Python code for document classification, enhanced invoice processing, and implemented language \\ndetection with 95% accuracy. Utilized MLflow for tracking experiments and managing models. \\n\\uf0b7 Created dashboards for the P2DTM BIM 7D Solutions and  led machine learning research with Azure ML, achieving \\na 20% improvement in forecasting accuracy and gained valuable project management experience. \\n\\uf0b7 Visualized call flow trends and metrics using MS PowerBI and DAX to provide actionable insights from over 5 0,000 \\ncall records. Automated data extraction for over 150 entries with Python and Pyppeteer. \\n\\uf0b7 Collaborated with clients to identify business  requirements and develop ed tailored software solutions that me t \\nspecific business needs. \\nXecutesmart Technologies - Data Scientist                                                                                                      06/21 – 09/22 \\n\\uf0b7 Developed and deployed disease prediction models using Python, TensorFlow, Keras, and ML algorithms, achieving \\nnearly 90% accuracy. Conducted sentiment analysis on airline data and visualized insights from Twitter comments. \\n\\uf0b7 Analyzed reservation system data with Talend and Power BI, creating dashboards. Designed dimensional data models \\nfor banking projects and executed complex SQL queries and ETL processes using Informatica. \\nGrroom - Software Developer                   12/19 – 05/21 \\n\\uf0b7 Gained foundational experience as an intern, developed and optimized complex SQL queries, also created interactive \\ndashboards as a full-time Software Developer, which improved data reporting efficiency by 30%. \\n\\uf0b7 Worked on data collection, labelling, and pre-processing in the fashion industry , handled and prepared data from \\nmore than 10,000 images to enhance model accuracy and performance. \\nEDUCATION \\nMasters of Technology | Anna University,                                                                                                  Tamil Nadu, India \\nData Science -   06/2021  \\nBachelor of Engineering | Anna University,                                                                                                Tamil Nadu, India \\nElectronics and Communications Engineering - 05/2019  \\nSKILLS \\nTechnical skills: AI Tools & Frameworks, ML algorithms(Supervised & Unsupervised learning algorithm), Deep \\nLearning Models, Large Language Models, Data Science, Data Analytics, Data collection, Feature extraction, NLP. \\nData Visualization & ETL Tools: Tableau, MS Power BI, Informatica Power Center, Talend for Data Integration.  \\nDesign and Development tools: AWS EC2, ECR, Azure Machine Learning Studio, AutoML, Visual Studio Code, MS \\nSQL Server, Oracle SQL Developer, CI/CD Pipeline, GitHub Actions, MLFlow.  \\nDatabase Languages: Oracle SQL, PL/SQL 21c/19c Enterprise edition.  \\nProgramming Skills: Python, R Programming (Basics). \\nSoft Skills: Team Work, Leadership, Good Communication skill, Business Acumen, Complex problem Solver.  \\nCERTIFICATION \\n\\uf0b7 Microsoft Certificated Data Science Associate \\n\\uf0b7 Deep Learning.ai Specialization in Coursera. ')]"
      ]
     },
     "execution_count": 1,
     "metadata": {},
     "output_type": "execute_result"
    }
   ],
   "source": [
    "from langchain_community.document_loaders import PyPDFLoader\n",
    "\n",
    "loader = PyPDFLoader(\"MalavikaGowthaman.pdf\")\n",
    "data = loader.load()\n",
    "data"
   ]
  },
  {
   "cell_type": "code",
   "execution_count": 2,
   "metadata": {},
   "outputs": [
    {
     "data": {
      "text/plain": [
       "8"
      ]
     },
     "execution_count": 2,
     "metadata": {},
     "output_type": "execute_result"
    }
   ],
   "source": [
    "from langchain.text_splitter import RecursiveCharacterTextSplitter\n",
    "\n",
    "text_splitter = RecursiveCharacterTextSplitter(chunk_size = 800, chunk_overlap = 100)\n",
    "\n",
    "docs = text_splitter.split_documents(data)\n",
    "len(docs)"
   ]
  },
  {
   "cell_type": "code",
   "execution_count": 3,
   "metadata": {},
   "outputs": [
    {
     "data": {
      "text/plain": [
       "Document(metadata={'source': 'MalavikaGowthaman.pdf', 'page': 0}, page_content='functional teams including finance and product management to deploy the model in a web interface.(GitHub.com) \\n\\uf0b7 Created TensorFlow-based CNN model  with 99% accuracy for face mask detection in images  and real-time videos, \\nalso implemented rigorous data pre-process to improve the data quality and validation techniques.(GitHub.com) \\n\\uf0b7 Developed and deployed an Information Retrieval System Streamlit web application focused on 3 types of documents \\nusing Langchain, and successfully launched on AWS EC2 for scalable access.(GitHub.com) \\nHCL Technologies - Senior Software Developer in Data Science                             09/22 – 04/24  \\n\\uf0b7 Developed Python code for document classification, enhanced invoice processing, and implemented language')"
      ]
     },
     "execution_count": 3,
     "metadata": {},
     "output_type": "execute_result"
    }
   ],
   "source": [
    "docs[2]"
   ]
  },
  {
   "cell_type": "code",
   "execution_count": 4,
   "metadata": {},
   "outputs": [
    {
     "name": "stderr",
     "output_type": "stream",
     "text": [
      "c:\\Users\\kathi\\anaconda3\\envs\\ragdemo\\lib\\site-packages\\tqdm\\auto.py:21: TqdmWarning: IProgress not found. Please update jupyter and ipywidgets. See https://ipywidgets.readthedocs.io/en/stable/user_install.html\n",
      "  from .autonotebook import tqdm as notebook_tqdm\n"
     ]
    },
    {
     "data": {
      "text/plain": [
       "True"
      ]
     },
     "execution_count": 4,
     "metadata": {},
     "output_type": "execute_result"
    }
   ],
   "source": [
    "from langchain_chroma import Chroma\n",
    "from langchain_google_genai import GoogleGenerativeAIEmbeddings\n",
    "\n",
    "from dotenv import load_dotenv\n",
    "load_dotenv()"
   ]
  },
  {
   "cell_type": "code",
   "execution_count": 5,
   "metadata": {},
   "outputs": [
    {
     "data": {
      "text/plain": [
       "[0.023418044671416283,\n",
       " -0.01591743342578411,\n",
       " -0.03490988910198212,\n",
       " -0.00024218630278483033,\n",
       " -0.00988025963306427]"
      ]
     },
     "execution_count": 5,
     "metadata": {},
     "output_type": "execute_result"
    }
   ],
   "source": [
    "embedding = GoogleGenerativeAIEmbeddings(model = \"models/text-embedding-004\")\n",
    "vector = embedding.embed_query(\"hello world\")\n",
    "vector[:5]\n",
    "\n"
   ]
  },
  {
   "cell_type": "code",
   "execution_count": 6,
   "metadata": {},
   "outputs": [],
   "source": [
    "vectorstore = Chroma.from_documents(documents=docs, embedding=embedding)"
   ]
  },
  {
   "cell_type": "code",
   "execution_count": 7,
   "metadata": {},
   "outputs": [
    {
     "name": "stderr",
     "output_type": "stream",
     "text": [
      "Number of requested results 10 is greater than number of elements in index 8, updating n_results = 8\n"
     ]
    }
   ],
   "source": [
    "retriever = vectorstore.as_retriever(search_type =\"similarity\", search_kwargs ={'k':10})\n",
    "retriever_docs = retriever.invoke(\"What the document is about?\")"
   ]
  },
  {
   "cell_type": "code",
   "execution_count": 8,
   "metadata": {},
   "outputs": [
    {
     "data": {
      "text/plain": [
       "8"
      ]
     },
     "execution_count": 8,
     "metadata": {},
     "output_type": "execute_result"
    }
   ],
   "source": [
    "len(retriever_docs)"
   ]
  },
  {
   "cell_type": "code",
   "execution_count": 9,
   "metadata": {},
   "outputs": [
    {
     "data": {
      "text/plain": [
       "[Document(metadata={'page': 0, 'source': 'MalavikaGowthaman.pdf'}, page_content='functional teams including finance and product management to deploy the model in a web interface.(GitHub.com) \\n\\uf0b7 Created TensorFlow-based CNN model  with 99% accuracy for face mask detection in images  and real-time videos, \\nalso implemented rigorous data pre-process to improve the data quality and validation techniques.(GitHub.com) \\n\\uf0b7 Developed and deployed an Information Retrieval System Streamlit web application focused on 3 types of documents \\nusing Langchain, and successfully launched on AWS EC2 for scalable access.(GitHub.com) \\nHCL Technologies - Senior Software Developer in Data Science                             09/22 – 04/24  \\n\\uf0b7 Developed Python code for document classification, enhanced invoice processing, and implemented language'),\n",
       " Document(metadata={'page': 0, 'source': 'MalavikaGowthaman.pdf'}, page_content='\\uf0b7 Developed FitTrack, a Streamlit web app with Python and Google’s Gen AI for BMI calculation and personalized  \\nrecommendation, featuring robust error handling and secure API management.(GitHub.com) \\n\\uf0b7 Created a smoking detection model using PyTorch YOLOv5, achieved 90% accuracy, and documented the process in \\na Jupyter notebook for future enhancements.(GitHub.com) \\n\\uf0b7 Developed a deep learning model using TensorFlow and VGG19 for cancer classification based on CT scan images. \\nUtilized Docker and GitHub Actions for CI/CD pipelines and deployed the front -end application for th is project on \\nthe AWS platform.(GitHub.com) \\n\\uf0b7 Built a Random Forest model for personal loan eligibility prediction with 99% accuracy, collaborating with cross -'),\n",
       " Document(metadata={'page': 0, 'source': 'MalavikaGowthaman.pdf'}, page_content='detection with 95% accuracy. Utilized MLflow for tracking experiments and managing models. \\n\\uf0b7 Created dashboards for the P2DTM BIM 7D Solutions and  led machine learning research with Azure ML, achieving \\na 20% improvement in forecasting accuracy and gained valuable project management experience. \\n\\uf0b7 Visualized call flow trends and metrics using MS PowerBI and DAX to provide actionable insights from over 5 0,000 \\ncall records. Automated data extraction for over 150 entries with Python and Pyppeteer. \\n\\uf0b7 Collaborated with clients to identify business  requirements and develop ed tailored software solutions that me t \\nspecific business needs.'),\n",
       " Document(metadata={'page': 0, 'source': 'MalavikaGowthaman.pdf'}, page_content='specific business needs. \\nXecutesmart Technologies - Data Scientist                                                                                                      06/21 – 09/22 \\n\\uf0b7 Developed and deployed disease prediction models using Python, TensorFlow, Keras, and ML algorithms, achieving \\nnearly 90% accuracy. Conducted sentiment analysis on airline data and visualized insights from Twitter comments. \\n\\uf0b7 Analyzed reservation system data with Talend and Power BI, creating dashboards. Designed dimensional data models \\nfor banking projects and executed complex SQL queries and ETL processes using Informatica. \\nGrroom - Software Developer                   12/19 – 05/21 \\n\\uf0b7 Gained foundational experience as an intern, developed and optimized complex SQL queries, also created interactive'),\n",
       " Document(metadata={'page': 0, 'source': 'MalavikaGowthaman.pdf'}, page_content='dashboards as a full-time Software Developer, which improved data reporting efficiency by 30%. \\n\\uf0b7 Worked on data collection, labelling, and pre-processing in the fashion industry , handled and prepared data from \\nmore than 10,000 images to enhance model accuracy and performance. \\nEDUCATION \\nMasters of Technology | Anna University,                                                                                                  Tamil Nadu, India \\nData Science -   06/2021  \\nBachelor of Engineering | Anna University,                                                                                                Tamil Nadu, India \\nElectronics and Communications Engineering - 05/2019  \\nSKILLS'),\n",
       " Document(metadata={'page': 0, 'source': 'MalavikaGowthaman.pdf'}, page_content='Programming Skills: Python, R Programming (Basics). \\nSoft Skills: Team Work, Leadership, Good Communication skill, Business Acumen, Complex problem Solver.  \\nCERTIFICATION \\n\\uf0b7 Microsoft Certificated Data Science Associate \\n\\uf0b7 Deep Learning.ai Specialization in Coursera.'),\n",
       " Document(metadata={'page': 0, 'source': 'MalavikaGowthaman.pdf'}, page_content='Electronics and Communications Engineering - 05/2019  \\nSKILLS \\nTechnical skills: AI Tools & Frameworks, ML algorithms(Supervised & Unsupervised learning algorithm), Deep \\nLearning Models, Large Language Models, Data Science, Data Analytics, Data collection, Feature extraction, NLP. \\nData Visualization & ETL Tools: Tableau, MS Power BI, Informatica Power Center, Talend for Data Integration.  \\nDesign and Development tools: AWS EC2, ECR, Azure Machine Learning Studio, AutoML, Visual Studio Code, MS \\nSQL Server, Oracle SQL Developer, CI/CD Pipeline, GitHub Actions, MLFlow.  \\nDatabase Languages: Oracle SQL, PL/SQL 21c/19c Enterprise edition.  \\nProgramming Skills: Python, R Programming (Basics).'),\n",
       " Document(metadata={'page': 0, 'source': 'MalavikaGowthaman.pdf'}, page_content='Malavika Gowthaman \\nAI Engineer | Data Scientist | Masters in Data Science \\n+ 1 647 446 1531 | malavikag115@gmail.com | LinkedIn.com | GitHub.com \\n Scarborough, Ontario, Canada  \\nData Scientist and AI Engineer with 5 years of experience in data collection, pre -processing, model development and deployment. \\nExpert in Deep Learning, Neural Networks, Machine Learning, and LLMs, with a strong background in IT, Computer Science, \\nmathematics, Software Engineering and data analytics. Skilled in Power BI, Tableau, SQL, ETL Process, ML Flow and Python. \\nWORK EXPERIENCE \\nHope Artificial Intelligence Pvt Ltd - AI Engineer                                                                                      04/24 – Present')]"
      ]
     },
     "execution_count": 9,
     "metadata": {},
     "output_type": "execute_result"
    }
   ],
   "source": [
    "retriever_docs"
   ]
  },
  {
   "cell_type": "code",
   "execution_count": 10,
   "metadata": {},
   "outputs": [],
   "source": [
    "from langchain_google_genai import ChatGoogleGenerativeAI\n",
    "llm = ChatGoogleGenerativeAI(model=\"gemini-1.5-pro\",temperature=0,max_tokens=500)"
   ]
  },
  {
   "cell_type": "code",
   "execution_count": 11,
   "metadata": {},
   "outputs": [],
   "source": [
    "from langchain.chains import create_retrieval_chain\n",
    "from langchain.chains.combine_documents import create_stuff_documents_chain\n",
    "from langchain_core.prompts import ChatPromptTemplate\n",
    "\n",
    "system_prompt =(\n",
    "    \"You are an assistant for question-answering tasks. \"\n",
    "    \"Use the following pieces of retrieved context to answer \"\n",
    "    \"the question. If you don't know the answer, say that you \"\n",
    "    \"don't know. Use three sentences maximum and keep the \"\n",
    "    \"answer concise.\"\n",
    "    \"\\n\\n\"\n",
    "    \"{context}\"\n",
    "    \n",
    ")\n",
    "\n",
    "prompt = ChatPromptTemplate.from_messages(\n",
    "    [\n",
    "        (\"system\", system_prompt),\n",
    "        (\"human\",\"{input}\"),\n",
    "    ]\n",
    ")"
   ]
  },
  {
   "cell_type": "code",
   "execution_count": 12,
   "metadata": {},
   "outputs": [],
   "source": [
    "question_answer_chain = create_stuff_documents_chain(llm,prompt)\n",
    "rag_chain = create_retrieval_chain(retriever,question_answer_chain)\n"
   ]
  },
  {
   "cell_type": "code",
   "execution_count": 13,
   "metadata": {},
   "outputs": [
    {
     "name": "stdout",
     "output_type": "stream",
     "text": [
      "full nmae\n"
     ]
    },
    {
     "name": "stderr",
     "output_type": "stream",
     "text": [
      "Number of requested results 10 is greater than number of elements in index 8, updating n_results = 8\n"
     ]
    },
    {
     "name": "stdout",
     "output_type": "stream",
     "text": [
      "Malavika Gowthaman.\n",
      "\n",
      "years of exp\n"
     ]
    },
    {
     "name": "stderr",
     "output_type": "stream",
     "text": [
      "Number of requested results 10 is greater than number of elements in index 8, updating n_results = 8\n"
     ]
    },
    {
     "name": "stdout",
     "output_type": "stream",
     "text": [
      "Malavika Gowthaman has 5 years of experience in data collection, pre-processing, model development, and deployment.  She has worked as an AI Engineer, Data Scientist, and Software Developer. Her resume also lists experience as an intern.\n",
      "\n",
      "skills\n"
     ]
    },
    {
     "name": "stderr",
     "output_type": "stream",
     "text": [
      "Number of requested results 10 is greater than number of elements in index 8, updating n_results = 8\n"
     ]
    },
    {
     "name": "stdout",
     "output_type": "stream",
     "text": [
      "Malavika Gowthaman has skills in AI/ML tools and frameworks, deep learning models, LLMs, data science, data analytics, data visualization, ETL, and database languages.  She is proficient in Python and has basic R programming skills.  She also possesses soft skills such as teamwork, leadership, communication, and problem-solving.\n",
      "\n",
      "roles worked\n"
     ]
    },
    {
     "name": "stderr",
     "output_type": "stream",
     "text": [
      "Number of requested results 10 is greater than number of elements in index 8, updating n_results = 8\n"
     ]
    },
    {
     "name": "stdout",
     "output_type": "stream",
     "text": [
      "Malavika Gowthaman has held roles as an AI Engineer, Data Scientist, and Software Developer.  At Hope Artificial Intelligence Pvt Ltd, she is currently an AI Engineer.  Her previous roles include Data Scientist at Xecutesmart Technologies, Senior Software Developer in Data Science at HCL Technologies, and Software Developer at Grroom.\n",
      "\n",
      "e\n",
      "Exiting the program.\n"
     ]
    }
   ],
   "source": [
    "while True:\n",
    "    ques = input(\"Enter a question here (press 'e' to exit): \")  # Get input from the user\n",
    "    print(ques)\n",
    "\n",
    "    if ques.lower() == \"e\":  # Check if the input is 'e' (case-insensitive)\n",
    "        print(\"Exiting the program.\")\n",
    "        break\n",
    "    else:\n",
    "        try:\n",
    "            response = rag_chain.invoke({\"input\": ques})  # Assuming rag_chain is defined\n",
    "            print(response[\"answer\"])  # Display the answer\n",
    "        except Exception as e:\n",
    "            print(f\"An error occurred: {e}\")  # Handle any potential errors\n"
   ]
  }
 ],
 "metadata": {
  "kernelspec": {
   "display_name": "ragdemo",
   "language": "python",
   "name": "python3"
  },
  "language_info": {
   "codemirror_mode": {
    "name": "ipython",
    "version": 3
   },
   "file_extension": ".py",
   "mimetype": "text/x-python",
   "name": "python",
   "nbconvert_exporter": "python",
   "pygments_lexer": "ipython3",
   "version": "3.10.16"
  }
 },
 "nbformat": 4,
 "nbformat_minor": 2
}

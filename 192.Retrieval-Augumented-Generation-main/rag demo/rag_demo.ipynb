{
 "cells": [
  {
   "cell_type": "code",
   "execution_count": 5,
   "metadata": {},
   "outputs": [],
   "source": [
    "from langchain_community.document_loaders import UnstructuredURLLoader"
   ]
  },
  {
   "cell_type": "code",
   "execution_count": 6,
   "metadata": {},
   "outputs": [
    {
     "data": {
      "text/plain": [
       "True"
      ]
     },
     "execution_count": 6,
     "metadata": {},
     "output_type": "execute_result"
    }
   ],
   "source": [
    "from dotenv import load_dotenv\n",
    "load_dotenv()"
   ]
  },
  {
   "cell_type": "code",
   "execution_count": 7,
   "metadata": {},
   "outputs": [
    {
     "data": {
      "text/plain": [
       "[Document(metadata={'source': 'https://malavikagowthaman.github.io/Malavika-Gowthaman-Portfolio/'}, page_content=\"Hi, I'm Malavika AI Engineer\\n\\nDownload CV\\n\\nAbout\\n\\nI am Malavika Gowthaman\\n\\nAI Engineer and Data Scientist with 5 years of experience in data collection, pre-processing, model development and deployment. Expert in Deep Learning, Neural Networks, Machine Learning, and LLMs, with a strong background in IT, Computer Science, mathematics, Software Engineering and data analytics. Skilled in Power BI, Tableau, SQL, ETL Process, ML Flow and Python.\\n\\nWork Experience\\n\\nHope Artificial Intelligence Pvt Ltd - AI Engineer\\n\\n04/24 – Present\\n\\nDeveloping a healthcare app to improve disease diagnosis accuracy by 20% through data collection and analysis of over 10,000 patient records. Implementing machine learning models for predictive analysis, aiming to reduce diagnostic time by 30%. Focusing on optimizing performance and providing real-time insights for better decision-making in healthcare.\\n\\nBuilt a Random Forest model for personal loan eligibility prediction with 99% accuracy, collaborating with cross-functional teams including finance and product management to deploy the model in a web interface.\\n\\nDeveloped FitTrack, a Streamlit web app with Python and Google’s Gen AI for BMI calculation and personalized recommendation, featuring robust error handling and secure API management.\\n\\nHCL Technologies - Senior Software Developer in Data Science\\n\\n09/22 – 04/24\\n\\nDeveloped Python code for document classification, invoice processing, and language detection with 95% accuracy, using MLflow for model tracking.\\n\\nCreated P2DTM BIM 7D dashboards and led machine learning research on Azure ML, improving forecasting accuracy by 20%.\\n\\nVisualized call flow trends using PowerBI and DAX, analyzing over 50,000 records, and automated data extraction for 150+ entries with Python and Pyppeteer. Collaborated with clients to deliver tailored software solutions that met specific business requirements.\\n\\nXecutesmart Technologies - Data Scientist\\n\\n06/21 – 09/22\\n\\nDeveloped and deployed disease prediction models using Python, TensorFlow, Keras, and ML algorithms, achieving nearly 90% accuracy. Conducted sentiment analysis on airline data and visualized insights from Twitter comments.\\n\\nAnalyzed reservation system data with Talend and Power BI, creating dashboards. Designed dimensional data models for banking projects and executed complex SQL queries and ETL processes using Informatica.\\n\\nGrroom - Software Developer\\n\\n12/19 – 05/21\\n\\nGained foundational experience as an intern, developed and optimized complex SQL queries, also created interactive dashboards as a full-time Software Developer, which improved data reporting efficiency by 30%.\\n\\nWorked on data collection, labeling, and pre-processing in the fashion industry, handled and prepared data from more than 10,000 images to enhance model accuracy and performance.\\n\\nProjects\\n\\nSkills\\n\\nPython\\n\\nMachine Learning\\n\\nDeep Learning\\n\\nNLP\\n\\nLarge Language Models\\n\\nData Science\\n\\nGenerative AI\\n\\nData Analytics\\n\\nData Collection\\n\\nFeature Engineering\\n\\nSQL\\n\\nTableau\\n\\nPower BI\\n\\nTalend\\n\\nInformatica Power Center\\n\\nAzure ML Studio\\n\\nAuto ML\\n\\nAmazon Web Service\\n\\nGoogle Cloud Platform\\n\\nVisual Studio Code\\n\\nAnaconda\\n\\nGoogle Colab\\n\\nJupyter Notebook\\n\\nDownload CV\\n\\nGet In Touch\\n\\nName: Malavika Gowthaman\\n\\nPhone: +1 (647) 446-1531\\n\\nEmail: malavikag11@gmail.com\\n\\nAddress: Toronto, ON, Canada\")]"
      ]
     },
     "execution_count": 7,
     "metadata": {},
     "output_type": "execute_result"
    }
   ],
   "source": [
    "url = ['https://malavikagowthaman.github.io/Malavika-Gowthaman-Portfolio/']\n",
    "loader = UnstructuredURLLoader(urls=url)\n",
    "data = loader.load()\n",
    "data"
   ]
  },
  {
   "cell_type": "code",
   "execution_count": 8,
   "metadata": {},
   "outputs": [
    {
     "data": {
      "text/plain": [
       "1"
      ]
     },
     "execution_count": 8,
     "metadata": {},
     "output_type": "execute_result"
    }
   ],
   "source": [
    "len(data)"
   ]
  },
  {
   "cell_type": "code",
   "execution_count": 10,
   "metadata": {},
   "outputs": [
    {
     "data": {
      "text/plain": [
       "6"
      ]
     },
     "execution_count": 10,
     "metadata": {},
     "output_type": "execute_result"
    }
   ],
   "source": [
    "from langchain_text_splitters import RecursiveCharacterTextSplitter\n",
    "text_splitter = RecursiveCharacterTextSplitter(chunk_size=700,chunk_overlap=50)\n",
    "\n",
    "docs = text_splitter.split_documents(data)\n",
    "\n",
    "len(docs)"
   ]
  },
  {
   "cell_type": "code",
   "execution_count": 11,
   "metadata": {},
   "outputs": [
    {
     "data": {
      "text/plain": [
       "Document(metadata={'source': 'https://malavikagowthaman.github.io/Malavika-Gowthaman-Portfolio/'}, page_content='04/24 – Present\\n\\nDeveloping a healthcare app to improve disease diagnosis accuracy by 20% through data collection and analysis of over 10,000 patient records. Implementing machine learning models for predictive analysis, aiming to reduce diagnostic time by 30%. Focusing on optimizing performance and providing real-time insights for better decision-making in healthcare.\\n\\nBuilt a Random Forest model for personal loan eligibility prediction with 99% accuracy, collaborating with cross-functional teams including finance and product management to deploy the model in a web interface.')"
      ]
     },
     "execution_count": 11,
     "metadata": {},
     "output_type": "execute_result"
    }
   ],
   "source": [
    "docs[1]"
   ]
  },
  {
   "cell_type": "code",
   "execution_count": 12,
   "metadata": {},
   "outputs": [],
   "source": [
    "from langchain_chroma import Chroma\n",
    "from langchain_openai import OpenAIEmbeddings\n",
    "from langchain_openai import OpenAI"
   ]
  },
  {
   "cell_type": "code",
   "execution_count": 13,
   "metadata": {},
   "outputs": [
    {
     "data": {
      "text/plain": [
       "True"
      ]
     },
     "execution_count": 13,
     "metadata": {},
     "output_type": "execute_result"
    }
   ],
   "source": [
    "from dotenv import load_dotenv\n",
    "load_dotenv()"
   ]
  },
  {
   "cell_type": "code",
   "execution_count": 14,
   "metadata": {},
   "outputs": [],
   "source": [
    "vectorstore = Chroma.from_documents(documents=docs,embedding=OpenAIEmbeddings())"
   ]
  },
  {
   "cell_type": "code",
   "execution_count": 16,
   "metadata": {},
   "outputs": [],
   "source": [
    "retriever = vectorstore.as_retriever(search_type =\"similarity\",search_kwargs = {\"k\":4})"
   ]
  },
  {
   "cell_type": "code",
   "execution_count": 19,
   "metadata": {},
   "outputs": [
    {
     "data": {
      "text/plain": [
       "4"
      ]
     },
     "execution_count": 19,
     "metadata": {},
     "output_type": "execute_result"
    }
   ],
   "source": [
    "retriever_docs = retriever.invoke(\"What kind of projects she/he did?\")\n",
    "\n",
    "len(retriever_docs)"
   ]
  },
  {
   "cell_type": "code",
   "execution_count": 20,
   "metadata": {},
   "outputs": [
    {
     "data": {
      "text/plain": [
       "[Document(metadata={'source': 'https://malavikagowthaman.github.io/Malavika-Gowthaman-Portfolio/'}, page_content='Analyzed reservation system data with Talend and Power BI, creating dashboards. Designed dimensional data models for banking projects and executed complex SQL queries and ETL processes using Informatica.\\n\\nGrroom - Software Developer\\n\\n12/19 – 05/21\\n\\nGained foundational experience as an intern, developed and optimized complex SQL queries, also created interactive dashboards as a full-time Software Developer, which improved data reporting efficiency by 30%.\\n\\nWorked on data collection, labeling, and pre-processing in the fashion industry, handled and prepared data from more than 10,000 images to enhance model accuracy and performance.\\n\\nProjects\\n\\nSkills\\n\\nPython\\n\\nMachine Learning\\n\\nDeep Learning'),\n",
       " Document(metadata={'source': 'https://malavikagowthaman.github.io/Malavika-Gowthaman-Portfolio/'}, page_content='04/24 – Present\\n\\nDeveloping a healthcare app to improve disease diagnosis accuracy by 20% through data collection and analysis of over 10,000 patient records. Implementing machine learning models for predictive analysis, aiming to reduce diagnostic time by 30%. Focusing on optimizing performance and providing real-time insights for better decision-making in healthcare.\\n\\nBuilt a Random Forest model for personal loan eligibility prediction with 99% accuracy, collaborating with cross-functional teams including finance and product management to deploy the model in a web interface.'),\n",
       " Document(metadata={'source': 'https://malavikagowthaman.github.io/Malavika-Gowthaman-Portfolio/'}, page_content='Visualized call flow trends using PowerBI and DAX, analyzing over 50,000 records, and automated data extraction for 150+ entries with Python and Pyppeteer. Collaborated with clients to deliver tailored software solutions that met specific business requirements.\\n\\nXecutesmart Technologies - Data Scientist\\n\\n06/21 – 09/22\\n\\nDeveloped and deployed disease prediction models using Python, TensorFlow, Keras, and ML algorithms, achieving nearly 90% accuracy. Conducted sentiment analysis on airline data and visualized insights from Twitter comments.'),\n",
       " Document(metadata={'source': 'https://malavikagowthaman.github.io/Malavika-Gowthaman-Portfolio/'}, page_content='Developed FitTrack, a Streamlit web app with Python and Google’s Gen AI for BMI calculation and personalized recommendation, featuring robust error handling and secure API management.\\n\\nHCL Technologies - Senior Software Developer in Data Science\\n\\n09/22 – 04/24\\n\\nDeveloped Python code for document classification, invoice processing, and language detection with 95% accuracy, using MLflow for model tracking.\\n\\nCreated P2DTM BIM 7D dashboards and led machine learning research on Azure ML, improving forecasting accuracy by 20%.')]"
      ]
     },
     "execution_count": 20,
     "metadata": {},
     "output_type": "execute_result"
    }
   ],
   "source": [
    "retriever_docs"
   ]
  },
  {
   "cell_type": "code",
   "execution_count": 21,
   "metadata": {},
   "outputs": [
    {
     "data": {
      "text/plain": [
       "Document(metadata={'source': 'https://malavikagowthaman.github.io/Malavika-Gowthaman-Portfolio/'}, page_content='Analyzed reservation system data with Talend and Power BI, creating dashboards. Designed dimensional data models for banking projects and executed complex SQL queries and ETL processes using Informatica.\\n\\nGrroom - Software Developer\\n\\n12/19 – 05/21\\n\\nGained foundational experience as an intern, developed and optimized complex SQL queries, also created interactive dashboards as a full-time Software Developer, which improved data reporting efficiency by 30%.\\n\\nWorked on data collection, labeling, and pre-processing in the fashion industry, handled and prepared data from more than 10,000 images to enhance model accuracy and performance.\\n\\nProjects\\n\\nSkills\\n\\nPython\\n\\nMachine Learning\\n\\nDeep Learning')"
      ]
     },
     "execution_count": 21,
     "metadata": {},
     "output_type": "execute_result"
    }
   ],
   "source": [
    "retriever_docs[0]"
   ]
  },
  {
   "cell_type": "code",
   "execution_count": 22,
   "metadata": {},
   "outputs": [],
   "source": [
    "llm = OpenAI(temperature=0,max_tokens=500)"
   ]
  },
  {
   "cell_type": "code",
   "execution_count": 26,
   "metadata": {},
   "outputs": [],
   "source": [
    "from langchain.chains import create_retrieval_chain\n",
    "from langchain.chains.combine_documents import create_stuff_documents_chain\n",
    "from langchain_core.prompts import ChatPromptTemplate\n"
   ]
  },
  {
   "cell_type": "code",
   "execution_count": 28,
   "metadata": {},
   "outputs": [],
   "source": [
    "system_prompt = (\n",
    "    \"You are an assistant for question-answering tasks. \"\n",
    "    \"Use the following pieces of retrieved context to answer \"\n",
    "    \"the question. If you don't know the answer, say that you \"\n",
    "    \"don't know. Use three sentences maximum and keep the \"\n",
    "    \"answer concise.\"\n",
    "    \"\\n\\n\"\n",
    "    \n",
    "    \"{context}\"\n",
    ")"
   ]
  },
  {
   "cell_type": "code",
   "execution_count": 29,
   "metadata": {},
   "outputs": [],
   "source": [
    "prompt = ChatPromptTemplate.from_messages(\n",
    "    [\n",
    "        (\"system\", system_prompt),\n",
    "        (\"human\", \"{input}\"),\n",
    "    ]\n",
    ")"
   ]
  },
  {
   "cell_type": "code",
   "execution_count": 30,
   "metadata": {},
   "outputs": [],
   "source": [
    "question_answer_chain = create_stuff_documents_chain(llm,prompt)\n",
    "rag_chain = create_retrieval_chain(retriever,question_answer_chain)"
   ]
  },
  {
   "cell_type": "code",
   "execution_count": 31,
   "metadata": {},
   "outputs": [
    {
     "name": "stdout",
     "output_type": "stream",
     "text": [
      "\n",
      "\n",
      "I have 5 years of experience as an AI Engineer and Data Scientist. I have worked on various projects involving data collection, pre-processing, model development, and deployment. I am skilled in Deep Learning, Neural Networks, Machine Learning, and LLMs, with a strong background in IT, Computer Science, mathematics, Software Engineering, and data analytics.\n"
     ]
    }
   ],
   "source": [
    "response = rag_chain.invoke({\"input\":\"What is the experience ?\"})\n",
    "\n",
    "print(response[\"answer\"])"
   ]
  },
  {
   "cell_type": "code",
   "execution_count": null,
   "metadata": {},
   "outputs": [],
   "source": []
  }
 ],
 "metadata": {
  "kernelspec": {
   "display_name": "ragdemo",
   "language": "python",
   "name": "python3"
  },
  "language_info": {
   "codemirror_mode": {
    "name": "ipython",
    "version": 3
   },
   "file_extension": ".py",
   "mimetype": "text/x-python",
   "name": "python",
   "nbconvert_exporter": "python",
   "pygments_lexer": "ipython3",
   "version": "3.10.16"
  }
 },
 "nbformat": 4,
 "nbformat_minor": 2
}
